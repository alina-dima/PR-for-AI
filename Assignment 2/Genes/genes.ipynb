{
 "cells": [
  {
   "cell_type": "markdown",
   "metadata": {},
   "source": [
    "# Task 1: Genes\n",
    "### Alina, Lisa, Ömer and Nikolai"
   ]
  },
  {
   "cell_type": "markdown",
   "metadata": {},
   "source": [
    "## Import Data"
   ]
  },
  {
   "cell_type": "code",
   "execution_count": 1,
   "metadata": {},
   "outputs": [],
   "source": [
    "# Load libraries\n",
    "import pandas as pd\n",
    "import os\n",
    "from sklearn.model_selection import train_test_split\n",
    "import numpy as np\n",
    "from sklearn.decomposition import PCA\n",
    "from sklearn.preprocessing import StandardScaler\n",
    "import matplotlib.pyplot as plt\n",
    "from sklearn.svm import SVC\n",
    "from sklearn.naive_bayes import GaussianNB\n",
    "from sklearn.manifold import TSNE\n",
    "import seaborn as sns\n",
    "import warnings\n",
    "from sklearn.metrics import confusion_matrix, accuracy_score\n",
    "from tqdm import tqdm\n",
    "import time"
   ]
  },
  {
   "cell_type": "code",
   "execution_count": 2,
   "metadata": {},
   "outputs": [],
   "source": [
    "# Configure libraries\n",
    "warnings.filterwarnings(\"ignore\")"
   ]
  },
  {
   "cell_type": "code",
   "execution_count": 3,
   "metadata": {},
   "outputs": [],
   "source": [
    "# Set location of data directory\n",
    "data_path = os.path.join(\"..\",\"Data-PR-As2\",\"Genes\")"
   ]
  },
  {
   "cell_type": "code",
   "execution_count": 4,
   "metadata": {},
   "outputs": [],
   "source": [
    "# Load dataset (this takes a while)\n",
    "df = pd.read_csv(os.path.join(data_path, \"data.csv\"))\n",
    "df_labels = pd.read_csv(os.path.join(data_path, \"labels.csv\"))"
   ]
  },
  {
   "cell_type": "code",
   "execution_count": 5,
   "metadata": {},
   "outputs": [],
   "source": [
    "# Remove first columns as they just contain row names\n",
    "df = df.iloc[:, 1:]\n",
    "df_labels = df_labels.iloc[:, 1:]"
   ]
  },
  {
   "cell_type": "markdown",
   "metadata": {},
   "source": [
    "## Data Analysis"
   ]
  },
  {
   "cell_type": "code",
   "execution_count": 6,
   "metadata": {
    "scrolled": true
   },
   "outputs": [
    {
     "name": "stdout",
     "output_type": "stream",
     "text": [
      "# observations: 801  # features: 20531\n",
      "There are 5 classes: ['PRAD' 'LUAD' 'BRCA' 'KIRC' 'COAD']\n"
     ]
    }
   ],
   "source": [
    "# Dimensions of data\n",
    "n_observations, n_features = df.shape\n",
    "print(\"# observations:\",n_observations,\" # features:\", n_features)\n",
    "classes = df_labels[\"Class\"].unique()\n",
    "n_classes = len(classes)\n",
    "print(\"There are\", n_classes, \"classes:\", classes)"
   ]
  },
  {
   "cell_type": "code",
   "execution_count": 7,
   "metadata": {},
   "outputs": [
    {
     "data": {
      "image/png": "[encoded data removed]",
      "text/plain": [
       "<Figure size 432x288 with 1 Axes>"
      ]
     },
     "metadata": {
      "needs_background": "light"
     },
     "output_type": "display_data"
    }
   ],
   "source": [
    "# Inspect frequency of class labels\n",
    "ax = df_labels.apply(pd.value_counts).plot(kind='bar', legend=False)\n",
    "ax.bar_label(ax.containers[0])\n",
    "plt.xlabel(\"Class\")\n",
    "plt.ylabel(\"Frequency\")\n",
    "plt.show()"
   ]
  },
  {
   "cell_type": "markdown",
   "metadata": {},
   "source": [
    "There are 3 times more examples of BRCA than COAD. We therefore have a somewhat unbalanced dataset."
   ]
  },
  {
   "cell_type": "code",
   "execution_count": 8,
   "metadata": {
    "scrolled": true
   },
   "outputs": [
    {
     "name": "stdout",
     "output_type": "stream",
     "text": [
      "Min value: 0.0  Max value: 20.7788287118\n"
     ]
    },
    {
     "data": {
      "image/png": "[encoded data removed]",
      "text/plain": [
       "<Figure size 432x288 with 1 Axes>"
      ]
     },
     "metadata": {
      "needs_background": "light"
     },
     "output_type": "display_data"
    }
   ],
   "source": [
    "# Distribution of data across all features\n",
    "df.stack().hist(grid=False)\n",
    "df_np = df.to_numpy()\n",
    "print(\"Min value:\", df_np.min(), \" Max value:\", df_np.max())"
   ]
  },
  {
   "cell_type": "code",
   "execution_count": 9,
   "metadata": {},
   "outputs": [
    {
     "data": {
      "text/html": [
       "<div>\n",
       "<style scoped>\n",
       "    .dataframe tbody tr th:only-of-type {\n",
       "        vertical-align: middle;\n",
       "    }\n",
       "\n",
       "    .dataframe tbody tr th {\n",
       "        vertical-align: top;\n",
       "    }\n",
       "\n",
       "    .dataframe thead th {\n",
       "        text-align: right;\n",
       "    }\n",
       "</style>\n",
       "<table border=\"1\" class=\"dataframe\">\n",
       "  <thead>\n",
       "    <tr style=\"text-align: right;\">\n",
       "      <th></th>\n",
       "      <th>gene_0</th>\n",
       "      <th>gene_1</th>\n",
       "      <th>gene_2</th>\n",
       "      <th>gene_3</th>\n",
       "      <th>gene_4</th>\n",
       "      <th>gene_5</th>\n",
       "      <th>gene_6</th>\n",
       "      <th>gene_7</th>\n",
       "      <th>gene_8</th>\n",
       "      <th>gene_9</th>\n",
       "      <th>...</th>\n",
       "      <th>gene_20521</th>\n",
       "      <th>gene_20522</th>\n",
       "      <th>gene_20523</th>\n",
       "      <th>gene_20524</th>\n",
       "      <th>gene_20525</th>\n",
       "      <th>gene_20526</th>\n",
       "      <th>gene_20527</th>\n",
       "      <th>gene_20528</th>\n",
       "      <th>gene_20529</th>\n",
       "      <th>gene_20530</th>\n",
       "    </tr>\n",
       "  </thead>\n",
       "  <tbody>\n",
       "    <tr>\n",
       "      <th>count</th>\n",
       "      <td>801.000000</td>\n",
       "      <td>801.000000</td>\n",
       "      <td>801.000000</td>\n",
       "      <td>801.000000</td>\n",
       "      <td>801.000000</td>\n",
       "      <td>801.0</td>\n",
       "      <td>801.000000</td>\n",
       "      <td>801.000000</td>\n",
       "      <td>801.000000</td>\n",
       "      <td>801.000000</td>\n",
       "      <td>...</td>\n",
       "      <td>801.000000</td>\n",
       "      <td>801.000000</td>\n",
       "      <td>801.000000</td>\n",
       "      <td>801.000000</td>\n",
       "      <td>801.000000</td>\n",
       "      <td>801.000000</td>\n",
       "      <td>801.000000</td>\n",
       "      <td>801.000000</td>\n",
       "      <td>801.000000</td>\n",
       "      <td>801.000000</td>\n",
       "    </tr>\n",
       "    <tr>\n",
       "      <th>mean</th>\n",
       "      <td>0.026642</td>\n",
       "      <td>3.010909</td>\n",
       "      <td>3.095350</td>\n",
       "      <td>6.722305</td>\n",
       "      <td>9.813612</td>\n",
       "      <td>0.0</td>\n",
       "      <td>7.405509</td>\n",
       "      <td>0.499882</td>\n",
       "      <td>0.016744</td>\n",
       "      <td>0.013428</td>\n",
       "      <td>...</td>\n",
       "      <td>5.896573</td>\n",
       "      <td>8.765891</td>\n",
       "      <td>10.056252</td>\n",
       "      <td>4.847727</td>\n",
       "      <td>9.741987</td>\n",
       "      <td>11.742228</td>\n",
       "      <td>10.155271</td>\n",
       "      <td>9.590726</td>\n",
       "      <td>5.528177</td>\n",
       "      <td>0.095411</td>\n",
       "    </tr>\n",
       "    <tr>\n",
       "      <th>std</th>\n",
       "      <td>0.136850</td>\n",
       "      <td>1.200828</td>\n",
       "      <td>1.065601</td>\n",
       "      <td>0.638819</td>\n",
       "      <td>0.506537</td>\n",
       "      <td>0.0</td>\n",
       "      <td>1.108237</td>\n",
       "      <td>0.508799</td>\n",
       "      <td>0.133635</td>\n",
       "      <td>0.204722</td>\n",
       "      <td>...</td>\n",
       "      <td>0.746399</td>\n",
       "      <td>0.603176</td>\n",
       "      <td>0.379278</td>\n",
       "      <td>2.382728</td>\n",
       "      <td>0.533898</td>\n",
       "      <td>0.670371</td>\n",
       "      <td>0.580569</td>\n",
       "      <td>0.563849</td>\n",
       "      <td>2.073859</td>\n",
       "      <td>0.364529</td>\n",
       "    </tr>\n",
       "    <tr>\n",
       "      <th>min</th>\n",
       "      <td>0.000000</td>\n",
       "      <td>0.000000</td>\n",
       "      <td>0.000000</td>\n",
       "      <td>5.009284</td>\n",
       "      <td>8.435999</td>\n",
       "      <td>0.0</td>\n",
       "      <td>3.930747</td>\n",
       "      <td>0.000000</td>\n",
       "      <td>0.000000</td>\n",
       "      <td>0.000000</td>\n",
       "      <td>...</td>\n",
       "      <td>2.853517</td>\n",
       "      <td>6.678368</td>\n",
       "      <td>8.669456</td>\n",
       "      <td>0.000000</td>\n",
       "      <td>7.974942</td>\n",
       "      <td>9.045255</td>\n",
       "      <td>7.530141</td>\n",
       "      <td>7.864533</td>\n",
       "      <td>0.593975</td>\n",
       "      <td>0.000000</td>\n",
       "    </tr>\n",
       "    <tr>\n",
       "      <th>25%</th>\n",
       "      <td>0.000000</td>\n",
       "      <td>2.299039</td>\n",
       "      <td>2.390365</td>\n",
       "      <td>6.303346</td>\n",
       "      <td>9.464466</td>\n",
       "      <td>0.0</td>\n",
       "      <td>6.676042</td>\n",
       "      <td>0.000000</td>\n",
       "      <td>0.000000</td>\n",
       "      <td>0.000000</td>\n",
       "      <td>...</td>\n",
       "      <td>5.454926</td>\n",
       "      <td>8.383834</td>\n",
       "      <td>9.826027</td>\n",
       "      <td>3.130750</td>\n",
       "      <td>9.400747</td>\n",
       "      <td>11.315857</td>\n",
       "      <td>9.836525</td>\n",
       "      <td>9.244219</td>\n",
       "      <td>4.092385</td>\n",
       "      <td>0.000000</td>\n",
       "    </tr>\n",
       "    <tr>\n",
       "      <th>50%</th>\n",
       "      <td>0.000000</td>\n",
       "      <td>3.143687</td>\n",
       "      <td>3.127006</td>\n",
       "      <td>6.655893</td>\n",
       "      <td>9.791599</td>\n",
       "      <td>0.0</td>\n",
       "      <td>7.450114</td>\n",
       "      <td>0.443076</td>\n",
       "      <td>0.000000</td>\n",
       "      <td>0.000000</td>\n",
       "      <td>...</td>\n",
       "      <td>5.972582</td>\n",
       "      <td>8.784144</td>\n",
       "      <td>10.066385</td>\n",
       "      <td>5.444935</td>\n",
       "      <td>9.784524</td>\n",
       "      <td>11.749802</td>\n",
       "      <td>10.191207</td>\n",
       "      <td>9.566511</td>\n",
       "      <td>5.218618</td>\n",
       "      <td>0.000000</td>\n",
       "    </tr>\n",
       "    <tr>\n",
       "      <th>75%</th>\n",
       "      <td>0.000000</td>\n",
       "      <td>3.883484</td>\n",
       "      <td>3.802534</td>\n",
       "      <td>7.038447</td>\n",
       "      <td>10.142324</td>\n",
       "      <td>0.0</td>\n",
       "      <td>8.121984</td>\n",
       "      <td>0.789354</td>\n",
       "      <td>0.000000</td>\n",
       "      <td>0.000000</td>\n",
       "      <td>...</td>\n",
       "      <td>6.411292</td>\n",
       "      <td>9.147136</td>\n",
       "      <td>10.299025</td>\n",
       "      <td>6.637412</td>\n",
       "      <td>10.082269</td>\n",
       "      <td>12.177852</td>\n",
       "      <td>10.578561</td>\n",
       "      <td>9.917888</td>\n",
       "      <td>6.876382</td>\n",
       "      <td>0.000000</td>\n",
       "    </tr>\n",
       "    <tr>\n",
       "      <th>max</th>\n",
       "      <td>1.482332</td>\n",
       "      <td>6.237034</td>\n",
       "      <td>6.063484</td>\n",
       "      <td>10.129528</td>\n",
       "      <td>11.355621</td>\n",
       "      <td>0.0</td>\n",
       "      <td>10.718190</td>\n",
       "      <td>2.779008</td>\n",
       "      <td>1.785592</td>\n",
       "      <td>4.067604</td>\n",
       "      <td>...</td>\n",
       "      <td>7.771054</td>\n",
       "      <td>11.105431</td>\n",
       "      <td>11.318243</td>\n",
       "      <td>9.207495</td>\n",
       "      <td>11.811632</td>\n",
       "      <td>13.715361</td>\n",
       "      <td>11.675653</td>\n",
       "      <td>12.813320</td>\n",
       "      <td>11.205836</td>\n",
       "      <td>5.254133</td>\n",
       "    </tr>\n",
       "  </tbody>\n",
       "</table>\n",
       "<p>8 rows × 20531 columns</p>\n",
       "</div>"
      ],
      "text/plain": [
       "           gene_0      gene_1      gene_2      gene_3      gene_4  gene_5  \\\n",
       "count  801.000000  801.000000  801.000000  801.000000  801.000000   801.0   \n",
       "mean     0.026642    3.010909    3.095350    6.722305    9.813612     0.0   \n",
       "std      0.136850    1.200828    1.065601    0.638819    0.506537     0.0   \n",
       "min      0.000000    0.000000    0.000000    5.009284    8.435999     0.0   \n",
       "25%      0.000000    2.299039    2.390365    6.303346    9.464466     0.0   \n",
       "50%      0.000000    3.143687    3.127006    6.655893    9.791599     0.0   \n",
       "75%      0.000000    3.883484    3.802534    7.038447   10.142324     0.0   \n",
       "max      1.482332    6.237034    6.063484   10.129528   11.355621     0.0   \n",
       "\n",
       "           gene_6      gene_7      gene_8      gene_9  ...  gene_20521  \\\n",
       "count  801.000000  801.000000  801.000000  801.000000  ...  801.000000   \n",
       "mean     7.405509    0.499882    0.016744    0.013428  ...    5.896573   \n",
       "std      1.108237    0.508799    0.133635    0.204722  ...    0.746399   \n",
       "min      3.930747    0.000000    0.000000    0.000000  ...    2.853517   \n",
       "25%      6.676042    0.000000    0.000000    0.000000  ...    5.454926   \n",
       "50%      7.450114    0.443076    0.000000    0.000000  ...    5.972582   \n",
       "75%      8.121984    0.789354    0.000000    0.000000  ...    6.411292   \n",
       "max     10.718190    2.779008    1.785592    4.067604  ...    7.771054   \n",
       "\n",
       "       gene_20522  gene_20523  gene_20524  gene_20525  gene_20526  gene_20527  \\\n",
       "count  801.000000  801.000000  801.000000  801.000000  801.000000  801.000000   \n",
       "mean     8.765891   10.056252    4.847727    9.741987   11.742228   10.155271   \n",
       "std      0.603176    0.379278    2.382728    0.533898    0.670371    0.580569   \n",
       "min      6.678368    8.669456    0.000000    7.974942    9.045255    7.530141   \n",
       "25%      8.383834    9.826027    3.130750    9.400747   11.315857    9.836525   \n",
       "50%      8.784144   10.066385    5.444935    9.784524   11.749802   10.191207   \n",
       "75%      9.147136   10.299025    6.637412   10.082269   12.177852   10.578561   \n",
       "max     11.105431   11.318243    9.207495   11.811632   13.715361   11.675653   \n",
       "\n",
       "       gene_20528  gene_20529  gene_20530  \n",
       "count  801.000000  801.000000  801.000000  \n",
       "mean     9.590726    5.528177    0.095411  \n",
       "std      0.563849    2.073859    0.364529  \n",
       "min      7.864533    0.593975    0.000000  \n",
       "25%      9.244219    4.092385    0.000000  \n",
       "50%      9.566511    5.218618    0.000000  \n",
       "75%      9.917888    6.876382    0.000000  \n",
       "max     12.813320   11.205836    5.254133  \n",
       "\n",
       "[8 rows x 20531 columns]"
      ]
     },
     "execution_count": 9,
     "metadata": {},
     "output_type": "execute_result"
    }
   ],
   "source": [
    "# mean, std, min and max values vary between genes\n",
    "df.describe()"
   ]
  },
  {
   "cell_type": "code",
   "execution_count": 10,
   "metadata": {},
   "outputs": [],
   "source": [
    "def plot_tsne(x, y):\n",
    "    tsne = TSNE(n_components=2, random_state=0)\n",
    "    X_tsne = tsne.fit_transform(x)\n",
    "    sns.scatterplot(x=X_tsne[:,0], y=X_tsne[:,1], hue=y.to_numpy().flatten(), \n",
    "                    palette=sns.color_palette(n_colors=n_classes), data=y)\n",
    "    plt.xlabel(\"Component 1\")\n",
    "    plt.ylabel(\"Component 2\")"
   ]
  },
  {
   "cell_type": "code",
   "execution_count": 11,
   "metadata": {
    "scrolled": true
   },
   "outputs": [
    {
     "data": {
      "image/png": "[encoded data removed]",
      "text/plain": [
       "<Figure size 432x288 with 1 Axes>"
      ]
     },
     "metadata": {
      "needs_background": "light"
     },
     "output_type": "display_data"
    }
   ],
   "source": [
    "# Visualize multidimensional data\n",
    "plot_tsne(df, df_labels)"
   ]
  },
  {
   "cell_type": "markdown",
   "metadata": {},
   "source": [
    "## Feature Selection / Dimension Reduction"
   ]
  },
  {
   "cell_type": "code",
   "execution_count": 12,
   "metadata": {},
   "outputs": [],
   "source": [
    "X_train, X_test, y_train, y_test = train_test_split(df, df_labels, test_size=0.2, random_state=0)"
   ]
  },
  {
   "cell_type": "code",
   "execution_count": 13,
   "metadata": {},
   "outputs": [],
   "source": [
    "# rm_cols = [col for col in X_train.columns if X_train[col].mean() == 0]\n",
    "# X_train = X_train.drop(columns=rm_cols)"
   ]
  },
  {
   "cell_type": "code",
   "execution_count": 14,
   "metadata": {},
   "outputs": [],
   "source": [
    "def best_pca(components, x_train, y_train, x_test, y_test, model, normalizer=None):\n",
    "    scores = []\n",
    "    for n in tqdm(components):\n",
    "        pca = PCA(n_components=n)\n",
    "        x_train_norm, x_test_norm = ((normalizer.fit_transform(x_train), normalizer.fit_transform(x_test))\n",
    "                                     if normalizer else (x_train, x_test))\n",
    "        X_train_pca = pca.fit_transform(x_train_norm)\n",
    "        x_test_pca = pca.fit_transform(x_test_norm)\n",
    "        y_pred = model.fit(X_train_pca, y_train).predict(x_test_pca)\n",
    "        scores.append(accuracy_score(y_test, y_pred))\n",
    "    return scores"
   ]
  },
  {
   "cell_type": "code",
   "execution_count": 15,
   "metadata": {},
   "outputs": [
    {
     "name": "stderr",
     "output_type": "stream",
     "text": [
      "100%|███████████████████████████████████████████| 25/25 [00:45<00:00,  1.81s/it]\n"
     ]
    },
    {
     "data": {
      "image/png": "[encoded data removed]",
      "text/plain": [
       "<Figure size 432x288 with 1 Axes>"
      ]
     },
     "metadata": {
      "needs_background": "light"
     },
     "output_type": "display_data"
    }
   ],
   "source": [
    "max_comp = 25\n",
    "components = list(range(1, max_comp + 1))\n",
    "normalizer = StandardScaler()\n",
    "scores = best_pca(components, X_train, y_train, X_test, y_test, SVC(), normalizer)\n",
    "plt.plot(components, scores)\n",
    "plt.xlabel(\"Number of PCA components\")\n",
    "plt.ylabel(\"Model Accuracy\")\n",
    "plt.title(\"Best number of components: \" + str(np.argmax(scores) + 1) + \" (\" + str(round(max(scores),3)) + \")\")\n",
    "plt.show()"
   ]
  },
  {
   "cell_type": "code",
   "execution_count": 16,
   "metadata": {},
   "outputs": [
    {
     "data": {
      "image/png": "[encoded data removed]",
      "text/plain": [
       "<Figure size 432x288 with 1 Axes>"
      ]
     },
     "metadata": {
      "needs_background": "light"
     },
     "output_type": "display_data"
    }
   ],
   "source": [
    "total_components = 50\n",
    "pca = PCA(n_components=total_components)\n",
    "pca.fit(normalizer.fit_transform(X_train))\n",
    "plt.plot(list(range(total_components)), pca.explained_variance_ratio_, 'o-', linewidth=2, color='blue')\n",
    "plt.title('Scree Plot')\n",
    "plt.xlabel('Principal Component')\n",
    "plt.ylabel('Variance Explained')\n",
    "plt.show()"
   ]
  },
  {
   "cell_type": "code",
   "execution_count": 17,
   "metadata": {},
   "outputs": [
    {
     "name": "stdout",
     "output_type": "stream",
     "text": [
      "diff: 1.513352632522583\n",
      "diff: 0.9778623580932617\n"
     ]
    }
   ],
   "source": [
    "# Which is faster (a bunch of features or PCA)\n",
    "# Do this with cross-val but I think pca is faster lol\n",
    "\n",
    "start_feat = time.time()\n",
    "model = SVC()\n",
    "model.fit(X_train, y_train)\n",
    "end_feat = time.time()\n",
    "print(\"diff:\", end_feat - start_feat)\n",
    "\n",
    "start_pca = time.time()\n",
    "model = SVC()\n",
    "pca = PCA(n_components=5)\n",
    "X_pca = pca.fit_transform(normalizer.fit_transform(X_train))\n",
    "model.fit(X_pca, y_train)\n",
    "end_pca = time.time()\n",
    "print(\"diff:\", end_pca - start_pca)"
   ]
  }
 ],
 "metadata": {
  "kernelspec": {
   "display_name": "Python 3 (ipykernel)",
   "language": "python",
   "name": "python3"
  },
  "language_info": {
   "codemirror_mode": {
    "name": "ipython",
    "version": 3
   },
   "file_extension": ".py",
   "mimetype": "text/x-python",
   "name": "python",
   "nbconvert_exporter": "python",
   "pygments_lexer": "ipython3",
   "version": "3.10.7"
  },
  "vscode": {
   "interpreter": {
    "hash": "aee8b7b246df8f9039afb4144a1f6fd8d2ca17a180786b69acc140d282b71a49"
   }
  }
 },
 "nbformat": 4,
 "nbformat_minor": 2
}
