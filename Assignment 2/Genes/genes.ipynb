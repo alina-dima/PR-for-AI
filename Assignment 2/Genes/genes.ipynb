{
 "cells": [
  {
   "cell_type": "markdown",
   "metadata": {},
   "source": [
    "# Task 1: Genes\n",
    "### Alina, Lisa, Ömer and Nikolai"
   ]
  },
  {
   "cell_type": "markdown",
   "metadata": {},
   "source": [
    "## Import Data"
   ]
  },
  {
   "cell_type": "code",
   "execution_count": 184,
   "metadata": {},
   "outputs": [],
   "source": [
    "# Load libraries\n",
    "import os\n",
    "import warnings\n",
    "import time\n",
    "\n",
    "import pandas as pd\n",
    "import numpy as np\n",
    "import matplotlib\n",
    "import matplotlib.pyplot as plt\n",
    "import seaborn as sns\n",
    "\n",
    "from sklearn.decomposition import PCA\n",
    "from sklearn.preprocessing import StandardScaler, MinMaxScaler\n",
    "from sklearn.linear_model import LogisticRegression\n",
    "from sklearn.naive_bayes import GaussianNB\n",
    "from sklearn.model_selection import KFold, StratifiedKFold, cross_val_score, train_test_split, GridSearchCV\n",
    "from sklearn.neighbors import KNeighborsClassifier\n",
    "from sklearn.manifold import TSNE\n",
    "from sklearn.metrics import confusion_matrix, accuracy_score, mutual_info_score, f1_score, roc_auc_score\n",
    "from sklearn.feature_selection import SelectKBest, mutual_info_classif\n",
    "from sklearn.utils import resample\n",
    "\n",
    "from imblearn.over_sampling import SMOTE\n",
    "\n",
    "from fcmeans import FCM\n",
    "\n",
    "from tqdm import tqdm"
   ]
  },
  {
   "cell_type": "code",
   "execution_count": 23,
   "metadata": {},
   "outputs": [],
   "source": [
    "# Configure libraries\n",
    "warnings.filterwarnings(\"ignore\")\n",
    "RANDOM_STATE = 42\n",
    "np.random.seed(RANDOM_STATE)"
   ]
  },
  {
   "cell_type": "code",
   "execution_count": 3,
   "metadata": {},
   "outputs": [],
   "source": [
    "# Set location of data directory\n",
    "data_path = os.path.join(\"..\",\"Data-PR-As2\",\"Genes\")"
   ]
  },
  {
   "cell_type": "code",
   "execution_count": 42,
   "metadata": {},
   "outputs": [],
   "source": [
    "# Path for saving figures\n",
    "figure_path = \"Figures\"\n",
    "if not os.path.isdir(figure_path):\n",
    "    os.mkdir(figure_path)\n",
    "\n",
    "def save_plot(name):\n",
    "    if name:\n",
    "        plt.savefig(os.path.join(figure_path, name + \".pdf\"), bbox_inches=\"tight\")"
   ]
  },
  {
   "cell_type": "code",
   "execution_count": 5,
   "metadata": {},
   "outputs": [],
   "source": [
    "# Load dataset (this takes a while)\n",
    "df = pd.read_csv(os.path.join(data_path, \"data.csv\"))\n",
    "df_labels = pd.read_csv(os.path.join(data_path, \"labels.csv\"))"
   ]
  },
  {
   "cell_type": "code",
   "execution_count": 6,
   "metadata": {},
   "outputs": [],
   "source": [
    "# Remove first columns as they just contain row names\n",
    "df = df.iloc[:, 1:]\n",
    "df_labels = df_labels.iloc[:, 1:]"
   ]
  },
  {
   "cell_type": "markdown",
   "metadata": {},
   "source": [
    "## Data Analysis"
   ]
  },
  {
   "cell_type": "code",
   "execution_count": 7,
   "metadata": {
    "scrolled": true
   },
   "outputs": [
    {
     "name": "stdout",
     "output_type": "stream",
     "text": [
      "# observations: 801  # features: 20531\n",
      "There are 5 classes: ['PRAD' 'LUAD' 'BRCA' 'KIRC' 'COAD']\n"
     ]
    }
   ],
   "source": [
    "# Dimensions of data\n",
    "n_observations, n_features = df.shape\n",
    "print(\"# observations:\",n_observations,\" # features:\", n_features)\n",
    "classes = df_labels[\"Class\"].unique()\n",
    "n_classes = len(classes)\n",
    "print(\"There are\", n_classes, \"classes:\", classes)"
   ]
  },
  {
   "cell_type": "code",
   "execution_count": 8,
   "metadata": {},
   "outputs": [],
   "source": [
    "def plot_class_freq(y, fig_name=None):\n",
    "    ax = y.apply(pd.value_counts).plot(kind='bar', legend=False)\n",
    "    ax.bar_label(ax.containers[0])\n",
    "    plt.xlabel(\"Class\")\n",
    "    plt.ylabel(\"Frequency\")\n",
    "    save_plot(fig_name)\n",
    "    plt.show()"
   ]
  },
  {
   "cell_type": "code",
   "execution_count": 47,
   "metadata": {},
   "outputs": [
    {
     "data": {
      "image/png": "[encoded data removed]",
      "text/plain": [
       "<Figure size 432x288 with 1 Axes>"
      ]
     },
     "metadata": {
      "needs_background": "light"
     },
     "output_type": "display_data"
    }
   ],
   "source": [
    "# Inspect frequency of class labels\n",
    "plot_class_freq(df_labels, fig_name=\"imbalanced\")"
   ]
  },
  {
   "cell_type": "code",
   "execution_count": 10,
   "metadata": {
    "scrolled": true
   },
   "outputs": [
    {
     "name": "stdout",
     "output_type": "stream",
     "text": [
      "Min value: 0.0  Max value: 20.7788287118\n"
     ]
    },
    {
     "data": {
      "image/png": "[encoded data removed]",
      "text/plain": [
       "<Figure size 432x288 with 1 Axes>"
      ]
     },
     "metadata": {
      "needs_background": "light"
     },
     "output_type": "display_data"
    }
   ],
   "source": [
    "# Distribution of data across all features\n",
    "df.stack().hist(grid=False)\n",
    "df_np = df.to_numpy()\n",
    "print(\"Min value:\", df_np.min(), \" Max value:\", df_np.max())"
   ]
  },
  {
   "cell_type": "code",
   "execution_count": 11,
   "metadata": {},
   "outputs": [
    {
     "data": {
      "text/html": [
       "<div>\n",
       "<style scoped>\n",
       "    .dataframe tbody tr th:only-of-type {\n",
       "        vertical-align: middle;\n",
       "    }\n",
       "\n",
       "    .dataframe tbody tr th {\n",
       "        vertical-align: top;\n",
       "    }\n",
       "\n",
       "    .dataframe thead th {\n",
       "        text-align: right;\n",
       "    }\n",
       "</style>\n",
       "<table border=\"1\" class=\"dataframe\">\n",
       "  <thead>\n",
       "    <tr style=\"text-align: right;\">\n",
       "      <th></th>\n",
       "      <th>gene_0</th>\n",
       "      <th>gene_1</th>\n",
       "      <th>gene_2</th>\n",
       "      <th>gene_3</th>\n",
       "      <th>gene_4</th>\n",
       "      <th>gene_5</th>\n",
       "      <th>gene_6</th>\n",
       "      <th>gene_7</th>\n",
       "      <th>gene_8</th>\n",
       "      <th>gene_9</th>\n",
       "      <th>...</th>\n",
       "      <th>gene_20521</th>\n",
       "      <th>gene_20522</th>\n",
       "      <th>gene_20523</th>\n",
       "      <th>gene_20524</th>\n",
       "      <th>gene_20525</th>\n",
       "      <th>gene_20526</th>\n",
       "      <th>gene_20527</th>\n",
       "      <th>gene_20528</th>\n",
       "      <th>gene_20529</th>\n",
       "      <th>gene_20530</th>\n",
       "    </tr>\n",
       "  </thead>\n",
       "  <tbody>\n",
       "    <tr>\n",
       "      <th>count</th>\n",
       "      <td>801.000000</td>\n",
       "      <td>801.000000</td>\n",
       "      <td>801.000000</td>\n",
       "      <td>801.000000</td>\n",
       "      <td>801.000000</td>\n",
       "      <td>801.0</td>\n",
       "      <td>801.000000</td>\n",
       "      <td>801.000000</td>\n",
       "      <td>801.000000</td>\n",
       "      <td>801.000000</td>\n",
       "      <td>...</td>\n",
       "      <td>801.000000</td>\n",
       "      <td>801.000000</td>\n",
       "      <td>801.000000</td>\n",
       "      <td>801.000000</td>\n",
       "      <td>801.000000</td>\n",
       "      <td>801.000000</td>\n",
       "      <td>801.000000</td>\n",
       "      <td>801.000000</td>\n",
       "      <td>801.000000</td>\n",
       "      <td>801.000000</td>\n",
       "    </tr>\n",
       "    <tr>\n",
       "      <th>mean</th>\n",
       "      <td>0.026642</td>\n",
       "      <td>3.010909</td>\n",
       "      <td>3.095350</td>\n",
       "      <td>6.722305</td>\n",
       "      <td>9.813612</td>\n",
       "      <td>0.0</td>\n",
       "      <td>7.405509</td>\n",
       "      <td>0.499882</td>\n",
       "      <td>0.016744</td>\n",
       "      <td>0.013428</td>\n",
       "      <td>...</td>\n",
       "      <td>5.896573</td>\n",
       "      <td>8.765891</td>\n",
       "      <td>10.056252</td>\n",
       "      <td>4.847727</td>\n",
       "      <td>9.741987</td>\n",
       "      <td>11.742228</td>\n",
       "      <td>10.155271</td>\n",
       "      <td>9.590726</td>\n",
       "      <td>5.528177</td>\n",
       "      <td>0.095411</td>\n",
       "    </tr>\n",
       "    <tr>\n",
       "      <th>std</th>\n",
       "      <td>0.136850</td>\n",
       "      <td>1.200828</td>\n",
       "      <td>1.065601</td>\n",
       "      <td>0.638819</td>\n",
       "      <td>0.506537</td>\n",
       "      <td>0.0</td>\n",
       "      <td>1.108237</td>\n",
       "      <td>0.508799</td>\n",
       "      <td>0.133635</td>\n",
       "      <td>0.204722</td>\n",
       "      <td>...</td>\n",
       "      <td>0.746399</td>\n",
       "      <td>0.603176</td>\n",
       "      <td>0.379278</td>\n",
       "      <td>2.382728</td>\n",
       "      <td>0.533898</td>\n",
       "      <td>0.670371</td>\n",
       "      <td>0.580569</td>\n",
       "      <td>0.563849</td>\n",
       "      <td>2.073859</td>\n",
       "      <td>0.364529</td>\n",
       "    </tr>\n",
       "    <tr>\n",
       "      <th>min</th>\n",
       "      <td>0.000000</td>\n",
       "      <td>0.000000</td>\n",
       "      <td>0.000000</td>\n",
       "      <td>5.009284</td>\n",
       "      <td>8.435999</td>\n",
       "      <td>0.0</td>\n",
       "      <td>3.930747</td>\n",
       "      <td>0.000000</td>\n",
       "      <td>0.000000</td>\n",
       "      <td>0.000000</td>\n",
       "      <td>...</td>\n",
       "      <td>2.853517</td>\n",
       "      <td>6.678368</td>\n",
       "      <td>8.669456</td>\n",
       "      <td>0.000000</td>\n",
       "      <td>7.974942</td>\n",
       "      <td>9.045255</td>\n",
       "      <td>7.530141</td>\n",
       "      <td>7.864533</td>\n",
       "      <td>0.593975</td>\n",
       "      <td>0.000000</td>\n",
       "    </tr>\n",
       "    <tr>\n",
       "      <th>25%</th>\n",
       "      <td>0.000000</td>\n",
       "      <td>2.299039</td>\n",
       "      <td>2.390365</td>\n",
       "      <td>6.303346</td>\n",
       "      <td>9.464466</td>\n",
       "      <td>0.0</td>\n",
       "      <td>6.676042</td>\n",
       "      <td>0.000000</td>\n",
       "      <td>0.000000</td>\n",
       "      <td>0.000000</td>\n",
       "      <td>...</td>\n",
       "      <td>5.454926</td>\n",
       "      <td>8.383834</td>\n",
       "      <td>9.826027</td>\n",
       "      <td>3.130750</td>\n",
       "      <td>9.400747</td>\n",
       "      <td>11.315857</td>\n",
       "      <td>9.836525</td>\n",
       "      <td>9.244219</td>\n",
       "      <td>4.092385</td>\n",
       "      <td>0.000000</td>\n",
       "    </tr>\n",
       "    <tr>\n",
       "      <th>50%</th>\n",
       "      <td>0.000000</td>\n",
       "      <td>3.143687</td>\n",
       "      <td>3.127006</td>\n",
       "      <td>6.655893</td>\n",
       "      <td>9.791599</td>\n",
       "      <td>0.0</td>\n",
       "      <td>7.450114</td>\n",
       "      <td>0.443076</td>\n",
       "      <td>0.000000</td>\n",
       "      <td>0.000000</td>\n",
       "      <td>...</td>\n",
       "      <td>5.972582</td>\n",
       "      <td>8.784144</td>\n",
       "      <td>10.066385</td>\n",
       "      <td>5.444935</td>\n",
       "      <td>9.784524</td>\n",
       "      <td>11.749802</td>\n",
       "      <td>10.191207</td>\n",
       "      <td>9.566511</td>\n",
       "      <td>5.218618</td>\n",
       "      <td>0.000000</td>\n",
       "    </tr>\n",
       "    <tr>\n",
       "      <th>75%</th>\n",
       "      <td>0.000000</td>\n",
       "      <td>3.883484</td>\n",
       "      <td>3.802534</td>\n",
       "      <td>7.038447</td>\n",
       "      <td>10.142324</td>\n",
       "      <td>0.0</td>\n",
       "      <td>8.121984</td>\n",
       "      <td>0.789354</td>\n",
       "      <td>0.000000</td>\n",
       "      <td>0.000000</td>\n",
       "      <td>...</td>\n",
       "      <td>6.411292</td>\n",
       "      <td>9.147136</td>\n",
       "      <td>10.299025</td>\n",
       "      <td>6.637412</td>\n",
       "      <td>10.082269</td>\n",
       "      <td>12.177852</td>\n",
       "      <td>10.578561</td>\n",
       "      <td>9.917888</td>\n",
       "      <td>6.876382</td>\n",
       "      <td>0.000000</td>\n",
       "    </tr>\n",
       "    <tr>\n",
       "      <th>max</th>\n",
       "      <td>1.482332</td>\n",
       "      <td>6.237034</td>\n",
       "      <td>6.063484</td>\n",
       "      <td>10.129528</td>\n",
       "      <td>11.355621</td>\n",
       "      <td>0.0</td>\n",
       "      <td>10.718190</td>\n",
       "      <td>2.779008</td>\n",
       "      <td>1.785592</td>\n",
       "      <td>4.067604</td>\n",
       "      <td>...</td>\n",
       "      <td>7.771054</td>\n",
       "      <td>11.105431</td>\n",
       "      <td>11.318243</td>\n",
       "      <td>9.207495</td>\n",
       "      <td>11.811632</td>\n",
       "      <td>13.715361</td>\n",
       "      <td>11.675653</td>\n",
       "      <td>12.813320</td>\n",
       "      <td>11.205836</td>\n",
       "      <td>5.254133</td>\n",
       "    </tr>\n",
       "  </tbody>\n",
       "</table>\n",
       "<p>8 rows × 20531 columns</p>\n",
       "</div>"
      ],
      "text/plain": [
       "           gene_0      gene_1      gene_2      gene_3      gene_4  gene_5  \\\n",
       "count  801.000000  801.000000  801.000000  801.000000  801.000000   801.0   \n",
       "mean     0.026642    3.010909    3.095350    6.722305    9.813612     0.0   \n",
       "std      0.136850    1.200828    1.065601    0.638819    0.506537     0.0   \n",
       "min      0.000000    0.000000    0.000000    5.009284    8.435999     0.0   \n",
       "25%      0.000000    2.299039    2.390365    6.303346    9.464466     0.0   \n",
       "50%      0.000000    3.143687    3.127006    6.655893    9.791599     0.0   \n",
       "75%      0.000000    3.883484    3.802534    7.038447   10.142324     0.0   \n",
       "max      1.482332    6.237034    6.063484   10.129528   11.355621     0.0   \n",
       "\n",
       "           gene_6      gene_7      gene_8      gene_9  ...  gene_20521  \\\n",
       "count  801.000000  801.000000  801.000000  801.000000  ...  801.000000   \n",
       "mean     7.405509    0.499882    0.016744    0.013428  ...    5.896573   \n",
       "std      1.108237    0.508799    0.133635    0.204722  ...    0.746399   \n",
       "min      3.930747    0.000000    0.000000    0.000000  ...    2.853517   \n",
       "25%      6.676042    0.000000    0.000000    0.000000  ...    5.454926   \n",
       "50%      7.450114    0.443076    0.000000    0.000000  ...    5.972582   \n",
       "75%      8.121984    0.789354    0.000000    0.000000  ...    6.411292   \n",
       "max     10.718190    2.779008    1.785592    4.067604  ...    7.771054   \n",
       "\n",
       "       gene_20522  gene_20523  gene_20524  gene_20525  gene_20526  gene_20527  \\\n",
       "count  801.000000  801.000000  801.000000  801.000000  801.000000  801.000000   \n",
       "mean     8.765891   10.056252    4.847727    9.741987   11.742228   10.155271   \n",
       "std      0.603176    0.379278    2.382728    0.533898    0.670371    0.580569   \n",
       "min      6.678368    8.669456    0.000000    7.974942    9.045255    7.530141   \n",
       "25%      8.383834    9.826027    3.130750    9.400747   11.315857    9.836525   \n",
       "50%      8.784144   10.066385    5.444935    9.784524   11.749802   10.191207   \n",
       "75%      9.147136   10.299025    6.637412   10.082269   12.177852   10.578561   \n",
       "max     11.105431   11.318243    9.207495   11.811632   13.715361   11.675653   \n",
       "\n",
       "       gene_20528  gene_20529  gene_20530  \n",
       "count  801.000000  801.000000  801.000000  \n",
       "mean     9.590726    5.528177    0.095411  \n",
       "std      0.563849    2.073859    0.364529  \n",
       "min      7.864533    0.593975    0.000000  \n",
       "25%      9.244219    4.092385    0.000000  \n",
       "50%      9.566511    5.218618    0.000000  \n",
       "75%      9.917888    6.876382    0.000000  \n",
       "max     12.813320   11.205836    5.254133  \n",
       "\n",
       "[8 rows x 20531 columns]"
      ]
     },
     "execution_count": 11,
     "metadata": {},
     "output_type": "execute_result"
    }
   ],
   "source": [
    "# mean, std, min and max values vary between genes\n",
    "df.describe()"
   ]
  },
  {
   "cell_type": "code",
   "execution_count": 12,
   "metadata": {},
   "outputs": [
    {
     "name": "stdout",
     "output_type": "stream",
     "text": [
      "Are there duplicate rows in the dataset? False\n"
     ]
    }
   ],
   "source": [
    "print(\"Are there duplicate rows in the dataset?\", any(df.duplicated()))"
   ]
  },
  {
   "cell_type": "code",
   "execution_count": 38,
   "metadata": {},
   "outputs": [],
   "source": [
    "palette = dict(zip(classes, sns.color_palette(n_colors=n_classes)))\n",
    "\n",
    "def plot_tsne(x, y, fig_name=None, lim=50):\n",
    "    tsne = TSNE(n_components=2, random_state=RANDOM_STATE)\n",
    "    X_tsne = tsne.fit_transform(x)\n",
    "    sns.scatterplot(x=X_tsne[:,0], y=X_tsne[:,1], hue=\"Class\", palette=palette, data=y)\n",
    "    plt.xlabel(\"t-SNE Dimension 1\")\n",
    "    plt.ylabel(\"t-SNE Dimension 2\")\n",
    "    plt.xlim(-lim, lim)\n",
    "    plt.ylim(-lim, lim)\n",
    "    save_plot(fig_name)\n",
    "    plt.show()"
   ]
  },
  {
   "cell_type": "code",
   "execution_count": 39,
   "metadata": {
    "scrolled": true
   },
   "outputs": [
    {
     "data": {
      "image/png": "[encoded data removed]",
      "text/plain": [
       "<Figure size 432x288 with 1 Axes>"
      ]
     },
     "metadata": {
      "needs_background": "light"
     },
     "output_type": "display_data"
    }
   ],
   "source": [
    "# Visualize multidimensional data\n",
    "plot_tsne(df, df_labels, fig_name=\"imbalanced_tsne\")"
   ]
  },
  {
   "cell_type": "code",
   "execution_count": 48,
   "metadata": {},
   "outputs": [
    {
     "data": {
      "image/png": "[encoded data removed]",
      "text/plain": [
       "<Figure size 432x288 with 1 Axes>"
      ]
     },
     "metadata": {
      "needs_background": "light"
     },
     "output_type": "display_data"
    },
    {
     "data": {
      "image/png": "[encoded data removed]",
      "text/plain": [
       "<Figure size 432x288 with 1 Axes>"
      ]
     },
     "metadata": {
      "needs_background": "light"
     },
     "output_type": "display_data"
    }
   ],
   "source": [
    "# Balance dataset\n",
    "\n",
    "# remove 150 from BRCA\n",
    "prad_idxs = df_labels.index[df_labels[\"Class\"] == \"BRCA\"]\n",
    "remove_indices = np.random.choice(prad_idxs, size=150, replace=False)\n",
    "adjusted_df = df.drop(remove_indices)\n",
    "adjusted_df_labels = df_labels.drop(remove_indices)\n",
    "\n",
    "# over sample rest of classes\n",
    "sm = SMOTE(sampling_strategy=\"not majority\", k_neighbors=5, random_state=RANDOM_STATE)\n",
    "adjusted_df, adjusted_df_labels = sm.fit_resample(adjusted_df, adjusted_df_labels)\n",
    "\n",
    "plot_tsne(adjusted_df, adjusted_df_labels, fig_name=\"balanced_tsne\")\n",
    "plot_class_freq(adjusted_df_labels) # double check"
   ]
  },
  {
   "cell_type": "markdown",
   "metadata": {},
   "source": [
    "## Feature Selection / Dimension Reduction"
   ]
  },
  {
   "cell_type": "code",
   "execution_count": 49,
   "metadata": {},
   "outputs": [],
   "source": [
    "# Create hold-out set\n",
    "X, y = adjusted_df, adjusted_df_labels\n",
    "X_train_bal, X_test_bal, y_train_bal, y_test_bal = train_test_split(X, y, test_size=0.2, random_state=RANDOM_STATE)"
   ]
  },
  {
   "cell_type": "markdown",
   "metadata": {},
   "source": [
    "### PCA"
   ]
  },
  {
   "cell_type": "code",
   "execution_count": 50,
   "metadata": {
    "scrolled": true
   },
   "outputs": [],
   "source": [
    "def plot_pca_comp_variance(x, comp, fig_name=None):\n",
    "    pca = PCA(n_components=comp)\n",
    "    pca.fit(x)\n",
    "    plt.plot(list(range(1, comp + 1)), pca.explained_variance_ratio_, \"o-\", linewidth=2)\n",
    "    plt.xlabel(\"Principal Component\")\n",
    "    plt.ylabel(\"Variance Explained\")\n",
    "    save_plot(fig_name)\n",
    "    plt.show()"
   ]
  },
  {
   "cell_type": "code",
   "execution_count": 51,
   "metadata": {},
   "outputs": [
    {
     "data": {
      "image/png": "[encoded data removed]",
      "text/plain": [
       "<Figure size 432x288 with 1 Axes>"
      ]
     },
     "metadata": {
      "needs_background": "light"
     },
     "output_type": "display_data"
    }
   ],
   "source": [
    "plot_pca_comp_variance(X_train_bal, comp=50, fig_name=\"scree\")"
   ]
  },
  {
   "cell_type": "code",
   "execution_count": 132,
   "metadata": {},
   "outputs": [],
   "source": [
    "def try_pca(components, x_train, y_train, x_test, y_test, model, normalizer):\n",
    "    scores = []\n",
    "    \n",
    "    if normalizer:\n",
    "        x_train = normalizer.fit_transform(x_train)\n",
    "        x_test = normalizer.transform(x_test)\n",
    "    \n",
    "    for n in tqdm(components):\n",
    "        pca = PCA(n_components=n)\n",
    "            \n",
    "        X_train_pca = pca.fit_transform(x_train)\n",
    "        x_test_pca = pca.transform(x_test)\n",
    "        \n",
    "        y_pred = model.fit(X_train_pca, y_train).predict(x_test_pca)\n",
    "        scores.append(accuracy_score(y_test, y_pred))\n",
    "        \n",
    "    return scores\n",
    "\n",
    "def find_best_pca(x, y, model, normalizer, label, color, linestyle, min_comp=2, max_comp=10, split=0.2):\n",
    "    components = list(range(min_comp, max_comp + 1))\n",
    "    X_train, X_test, y_train, y_test = train_test_split(x, y, test_size=split, random_state=RANDOM_STATE)\n",
    "    scores = try_pca(components, X_train, y_train, X_test, y_test, model, normalizer)\n",
    "    \n",
    "    best_n_components = np.argmax(scores) + min_comp\n",
    "    label = f\"{label}  (min comp = {best_n_components})\"\n",
    "    plt.plot(components, scores, label=label, color=color, linestyle=linestyle)\n",
    "    plt.xlabel(\"Number of Components used\")\n",
    "    plt.ylabel(\"Model Accuracy\")\n",
    "    \n",
    "    return best_n_components"
   ]
  },
  {
   "cell_type": "code",
   "execution_count": 177,
   "metadata": {},
   "outputs": [],
   "source": [
    "models = [(LogisticRegression(random_state=RANDOM_STATE), \"LogReg\", \"blue\"), \n",
    "          (GaussianNB(), \"NB\", \"red\"),\n",
    "          (KNeighborsClassifier(n_neighbors=3), \"KNN\", \"orange\")\n",
    "         ]\n",
    "norms = [(None, \"\", \"solid\"), (StandardScaler, \"Norm\", \"dotted\")] #, (MinMaxScaler, \"MinMax\", \"dashed\")]"
   ]
  },
  {
   "cell_type": "code",
   "execution_count": 178,
   "metadata": {},
   "outputs": [
    {
     "name": "stderr",
     "output_type": "stream",
     "text": [
      "100%|█████████████████████████████████████████████████████████████████| 9/9 [00:08<00:00,  1.08it/s]\n",
      "100%|█████████████████████████████████████████████████████████████████| 9/9 [00:05<00:00,  1.51it/s]\n",
      "100%|█████████████████████████████████████████████████████████████████| 9/9 [00:07<00:00,  1.24it/s]\n",
      "100%|█████████████████████████████████████████████████████████████████| 9/9 [00:05<00:00,  1.73it/s]\n",
      "100%|█████████████████████████████████████████████████████████████████| 9/9 [00:08<00:00,  1.06it/s]\n",
      "100%|█████████████████████████████████████████████████████████████████| 9/9 [00:05<00:00,  1.76it/s]\n"
     ]
    },
    {
     "data": {
      "image/png": "[encoded data removed]",
      "text/plain": [
       "<Figure size 432x288 with 1 Axes>"
      ]
     },
     "metadata": {
      "needs_background": "light"
     },
     "output_type": "display_data"
    }
   ],
   "source": [
    "comps = []\n",
    "\n",
    "for m, m_name, color in models:\n",
    "    for n, n_name, style in norms:\n",
    "        normalizer = n() if n else None\n",
    "        name = m_name + (\" + \" if n_name else \" \") + n_name  \n",
    "        comps.append(find_best_pca(X_train_bal, y_train_bal, m, normalizer, name, color, style))\n",
    "\n",
    "plt.legend()\n",
    "save_plot(\"best_pca\")\n",
    "plt.show()"
   ]
  },
  {
   "cell_type": "code",
   "execution_count": 180,
   "metadata": {},
   "outputs": [],
   "source": [
    "pca_n_comp_logreg = comps[0]\n",
    "pca_n_comp_nb = comps[2]\n",
    "pca_n_comp_knn = comps[4]"
   ]
  },
  {
   "cell_type": "markdown",
   "metadata": {},
   "source": [
    "### Mutual Information"
   ]
  },
  {
   "cell_type": "code",
   "execution_count": 115,
   "metadata": {},
   "outputs": [],
   "source": [
    "def rank_features(x, y):\n",
    "    selector = SelectKBest(mutual_info_classif, k=\"all\")\n",
    "    selector.fit(x, y)\n",
    "    feature_importance = np.flip(np.argsort(selector.scores_))\n",
    "    return feature_importance"
   ]
  },
  {
   "cell_type": "code",
   "execution_count": 140,
   "metadata": {},
   "outputs": [],
   "source": [
    "def try_mutual_info(top_n_feat, top_features, x_train, y_train, x_test, y_test, model, normalizer):\n",
    "    scores = []\n",
    "    \n",
    "    if normalizer:\n",
    "        x_train = pd.DataFrame(normalizer.fit_transform(x_train))\n",
    "        x_test = pd.DataFrame(normalizer.transform(x_test))\n",
    "    \n",
    "    for i in tqdm(top_n_feat):\n",
    "        best_cols = top_features[:i]\n",
    "                \n",
    "        reduced_x_train = x_train.iloc[:,best_cols]\n",
    "        reduced_x_test = x_test.iloc[:,best_cols]\n",
    "        y_pred = model.fit(reduced_x_train, y_train).predict(reduced_x_test)\n",
    "        scores.append(accuracy_score(y_test, y_pred))\n",
    "    \n",
    "    return scores\n",
    "\n",
    "def find_best_mutual_info(features_ranked, x, y, model, normalizer, label, color, linestyle, \n",
    "                          min_n_feat=2, top_n_feat=15, split=0.2):\n",
    "    X_train, X_test, y_train, y_test = train_test_split(x, y, test_size=split, random_state=RANDOM_STATE)   \n",
    "    \n",
    "    top_n_feat = list(range(min_n_feat, top_n_feat + 1))\n",
    "    scores = try_mutual_info(top_n_feat, features_ranked, X_train, y_train, X_test, y_test, model, normalizer)\n",
    "    min_feat = np.argmax(scores) + min_n_feat\n",
    "    \n",
    "    plt.plot(top_n_feat, scores, label=f\"{label}  (min feat = {min_feat})\", color=color, linestyle=linestyle)\n",
    "    plt.xlabel(\"Number of Top N Features used by Model\")\n",
    "    plt.ylabel(\"Model Accuracy\")\n",
    "    \n",
    "    return features_ranked[:min_feat]"
   ]
  },
  {
   "cell_type": "code",
   "execution_count": null,
   "metadata": {},
   "outputs": [],
   "source": [
    "# This takes a while\n",
    "features_ranked = rank_features(X_train_bal, y_train_bal)"
   ]
  },
  {
   "cell_type": "code",
   "execution_count": 179,
   "metadata": {},
   "outputs": [
    {
     "name": "stderr",
     "output_type": "stream",
     "text": [
      "100%|███████████████████████████████████████████████████████████████| 14/14 [00:00<00:00, 63.74it/s]\n",
      "100%|██████████████████████████████████████████████████████████████| 14/14 [00:00<00:00, 163.62it/s]\n",
      "100%|██████████████████████████████████████████████████████████████| 14/14 [00:00<00:00, 439.38it/s]\n",
      "100%|██████████████████████████████████████████████████████████████| 14/14 [00:00<00:00, 447.07it/s]\n",
      "100%|██████████████████████████████████████████████████████████████| 14/14 [00:00<00:00, 225.62it/s]\n",
      "100%|██████████████████████████████████████████████████████████████| 14/14 [00:00<00:00, 224.03it/s]\n"
     ]
    },
    {
     "data": {
      "image/png": "[encoded data removed]",
      "text/plain": [
       "<Figure size 432x288 with 1 Axes>"
      ]
     },
     "metadata": {
      "needs_background": "light"
     },
     "output_type": "display_data"
    }
   ],
   "source": [
    "num_feats = []\n",
    "\n",
    "for m, m_name, color in models:\n",
    "    for n, n_name, style in norms:\n",
    "        normalizer = n() if n else None\n",
    "        name = m_name + (\" + \" if n_name else \" \") + n_name\n",
    "        num_feats.append(find_best_mutual_info(features_ranked, X_train_bal, y_train_bal, m, normalizer, name, color, style)) \n",
    "\n",
    "plt.legend()\n",
    "save_plot(\"best_feats\")\n",
    "plt.show()"
   ]
  },
  {
   "cell_type": "code",
   "execution_count": 181,
   "metadata": {},
   "outputs": [],
   "source": [
    "mi_feat_logreg = num_feats[0]\n",
    "mi_feat_nb = num_feats[2]\n",
    "mi_feat_knn = num_feats[4]"
   ]
  },
  {
   "cell_type": "markdown",
   "metadata": {},
   "source": [
    "## Classification (K-fold)"
   ]
  },
  {
   "cell_type": "code",
   "execution_count": 185,
   "metadata": {},
   "outputs": [],
   "source": [
    "def reduce_data(data_manip, X_train, X_test):\n",
    "    if isinstance(data_manip, PCA):\n",
    "        X_train = data_manip.fit_transform(X_train)\n",
    "        X_test = data_manip.transform(X_test)\n",
    "    elif isinstance(data_manip, np.ndarray):\n",
    "        X_train = X_train.iloc[:,data_manip]\n",
    "        X_test = X_test.iloc[:,data_manip]\n",
    "    return X_train, X_test\n",
    "\n",
    "def f1_score_multi(y_test, y_pred):\n",
    "    return f1_score(y_test, y_pred, average=\"macro\")\n",
    "\n",
    "def cross_val(model, x, y, data_manip=None, splits=5, metrics=[accuracy_score]):\n",
    "    times = np.zeros((splits, 2))\n",
    "    kf = StratifiedKFold(n_splits=splits)\n",
    "    scores = np.zeros((splits, len(metrics)))\n",
    "    \n",
    "    for i_fold, (train_index, test_index) in enumerate(tqdm(kf.split(x, y), total=splits)):\n",
    "        X_train, X_test = df.iloc[train_index,:], df.iloc[test_index,:]\n",
    "        y_train, y_test = df_labels.iloc[train_index,:], np.array(df_labels.iloc[test_index,:]).ravel()\n",
    "        \n",
    "        X_train, X_test = reduce_data(data_manip, X_train, X_test)\n",
    "        \n",
    "        start_train = time.time()\n",
    "        model.fit(X_train, y_train)\n",
    "        end_train = time.time()\n",
    "        \n",
    "        start_test = time.time()\n",
    "        y_pred = model.predict(X_test)\n",
    "        end_test = time.time()\n",
    "        \n",
    "        times[i_fold,:] = [end_train - start_train, end_test - start_test]\n",
    "        \n",
    "        for i, m in enumerate(metrics):\n",
    "            scores[i_fold, i] = m(y_test, y_pred)\n",
    "\n",
    "    times = times.mean(axis=0)\n",
    "    scores = scores.mean(axis=0)\n",
    "    \n",
    "    print(f\"Model: {model}, with {type(data_manip).__name__}\")\n",
    "    print(\"Avg Training Time: {} \\nAvg Testing Time:{}\".format(*times))\n",
    "    print(\": {}\\n\".join([x.__name__ for x in metrics] + [\"\"]).format(*scores))\n",
    "    \n",
    "    #return time, scores\n"
   ]
  },
  {
   "cell_type": "code",
   "execution_count": 186,
   "metadata": {},
   "outputs": [
    {
     "name": "stderr",
     "output_type": "stream",
     "text": [
      "100%|█████████████████████████████████████████████████████████████████| 5/5 [00:23<00:00,  4.63s/it]\n"
     ]
    },
    {
     "name": "stdout",
     "output_type": "stream",
     "text": [
      "Model: LogisticRegression(), with NoneType\n",
      "Avg Training Time: 4.3915183544158936 \n",
      "Avg Testing Time:0.19975337982177735\n",
      "accuracy_score: 0.9983333333333334\n",
      "\n"
     ]
    },
    {
     "name": "stderr",
     "output_type": "stream",
     "text": [
      "100%|█████████████████████████████████████████████████████████████████| 5/5 [00:04<00:00,  1.18it/s]\n"
     ]
    },
    {
     "name": "stdout",
     "output_type": "stream",
     "text": [
      "Model: LogisticRegression(), with PCA\n",
      "Avg Training Time: 0.025530338287353516 \n",
      "Avg Testing Time:0.0001388072967529297\n",
      "accuracy_score: 0.9883333333333333\n",
      "\n"
     ]
    },
    {
     "name": "stderr",
     "output_type": "stream",
     "text": [
      "100%|█████████████████████████████████████████████████████████████████| 5/5 [00:00<00:00, 19.11it/s]\n"
     ]
    },
    {
     "name": "stdout",
     "output_type": "stream",
     "text": [
      "Model: LogisticRegression(), with ndarray\n",
      "Avg Training Time: 0.01948990821838379 \n",
      "Avg Testing Time:0.0009280681610107422\n",
      "accuracy_score: 0.9883333333333333\n",
      "\n"
     ]
    },
    {
     "name": "stderr",
     "output_type": "stream",
     "text": [
      "100%|█████████████████████████████████████████████████████████████████| 5/5 [00:02<00:00,  2.47it/s]\n"
     ]
    },
    {
     "name": "stdout",
     "output_type": "stream",
     "text": [
      "Model: GaussianNB(), with NoneType\n",
      "Avg Training Time: 0.21730985641479492 \n",
      "Avg Testing Time:0.15570473670959473\n",
      "accuracy_score: 0.82\n",
      "\n"
     ]
    },
    {
     "name": "stderr",
     "output_type": "stream",
     "text": [
      "100%|█████████████████████████████████████████████████████████████████| 5/5 [00:03<00:00,  1.32it/s]\n"
     ]
    },
    {
     "name": "stdout",
     "output_type": "stream",
     "text": [
      "Model: GaussianNB(), with PCA\n",
      "Avg Training Time: 0.0013411521911621093 \n",
      "Avg Testing Time:0.00033440589904785154\n",
      "accuracy_score: 0.9866666666666667\n",
      "\n"
     ]
    },
    {
     "name": "stderr",
     "output_type": "stream",
     "text": [
      "100%|█████████████████████████████████████████████████████████████████| 5/5 [00:00<00:00, 26.17it/s]\n"
     ]
    },
    {
     "name": "stdout",
     "output_type": "stream",
     "text": [
      "Model: GaussianNB(), with ndarray\n",
      "Avg Training Time: 0.0023885726928710937 \n",
      "Avg Testing Time:0.0012616634368896485\n",
      "accuracy_score: 0.9816666666666667\n",
      "\n"
     ]
    },
    {
     "name": "stderr",
     "output_type": "stream",
     "text": [
      "100%|█████████████████████████████████████████████████████████████████| 5/5 [00:02<00:00,  2.10it/s]\n"
     ]
    },
    {
     "name": "stdout",
     "output_type": "stream",
     "text": [
      "Model: KNeighborsClassifier(n_neighbors=3), with NoneType\n",
      "Avg Training Time: 0.1306678295135498 \n",
      "Avg Testing Time:0.3133523464202881\n",
      "accuracy_score: 0.9983333333333334\n",
      "\n"
     ]
    },
    {
     "name": "stderr",
     "output_type": "stream",
     "text": [
      "100%|█████████████████████████████████████████████████████████████████| 5/5 [00:03<00:00,  1.36it/s]\n"
     ]
    },
    {
     "name": "stdout",
     "output_type": "stream",
     "text": [
      "Model: KNeighborsClassifier(n_neighbors=3), with PCA\n",
      "Avg Training Time: 0.001972198486328125 \n",
      "Avg Testing Time:0.0038215160369873048\n",
      "accuracy_score: 0.9883333333333333\n",
      "\n"
     ]
    },
    {
     "name": "stderr",
     "output_type": "stream",
     "text": [
      "100%|█████████████████████████████████████████████████████████████████| 5/5 [00:00<00:00, 24.74it/s]"
     ]
    },
    {
     "name": "stdout",
     "output_type": "stream",
     "text": [
      "Model: KNeighborsClassifier(n_neighbors=3), with ndarray\n",
      "Avg Training Time: 0.0023328304290771485 \n",
      "Avg Testing Time:0.004059219360351562\n",
      "accuracy_score: 0.99\n",
      "\n"
     ]
    },
    {
     "name": "stderr",
     "output_type": "stream",
     "text": [
      "\n"
     ]
    }
   ],
   "source": [
    "X_cross = X_train_bal\n",
    "Y_cross = y_train_bal\n",
    "\n",
    "model = LogisticRegression()\n",
    "cross_val(model, X_cross, Y_cross)\n",
    "cross_val(model, X_cross, Y_cross, PCA(n_components=pca_n_comp_logreg))\n",
    "cross_val(model, X_cross, Y_cross, mi_feat_logreg)\n",
    "\n",
    "model = GaussianNB()\n",
    "cross_val(model, X_cross, Y_cross)\n",
    "cross_val(model, X_cross, Y_cross, PCA(n_components=pca_n_comp_nb))\n",
    "cross_val(model, X_cross, Y_cross, mi_feat_nb)\n",
    "\n",
    "model = KNeighborsClassifier(n_neighbors=3)\n",
    "cross_val(model, X_cross, Y_cross)\n",
    "cross_val(model, X_cross, Y_cross, PCA(n_components=pca_n_comp_knn))\n",
    "cross_val(model, X_cross, Y_cross, mi_feat_knn)\n"
   ]
  },
  {
   "cell_type": "markdown",
   "metadata": {},
   "source": [
    "## Grid Search (broken fix)"
   ]
  },
  {
   "cell_type": "code",
   "execution_count": null,
   "metadata": {},
   "outputs": [],
   "source": [
    "parameters = {'cache_size': [8000], 'kernel':('linear', 'poly', 'rbf'), 'C':[0.1, 1, 10], 'decision_function_shape': ('ovo', 'ovr')}\n",
    "clf = GridSearchCV(SVC(), parameters)\n",
    "clf.fit(df_over, df_labels_over)"
   ]
  },
  {
   "cell_type": "code",
   "execution_count": null,
   "metadata": {},
   "outputs": [],
   "source": [
    "print(clf.best_params_)"
   ]
  },
  {
   "cell_type": "code",
   "execution_count": null,
   "metadata": {},
   "outputs": [],
   "source": [
    "parameters = {'n_neighbors':[1, 3, 5, 7], 'weights':('uniform', 'weights'), 'p': [1, 2], 'n_jobs': [-1], 'algorithm': ('auto','ball_tree','kd_tree','brute')}\n",
    "clf_cluster = GridSearchCV(KNeighborsClassifier(), parameters)\n",
    "clf_cluster.fit(df_over, df_labels_over)"
   ]
  },
  {
   "cell_type": "code",
   "execution_count": null,
   "metadata": {},
   "outputs": [],
   "source": [
    "print(clf_cluster.best_params_)"
   ]
  },
  {
   "cell_type": "markdown",
   "metadata": {},
   "source": [
    "## Clustering (find best pca and MI first)"
   ]
  },
  {
   "cell_type": "code",
   "execution_count": null,
   "metadata": {},
   "outputs": [],
   "source": [
    "# fix this\n",
    "reduced_feat = [6593  ,7964 , 7965 , 7992, 17109, 18381]\n",
    "new_df = df.iloc[:,reduced_feat]\n",
    "print(new_df.shape)\n",
    "X_train, X_test, y_train, y_test = train_test_split(new_df, df_labels, test_size=0.2, random_state=RANDOM_STATE)\n",
    "fcm = FCM(n_clusters=5)\n",
    "fcm.fit(X_train.to_numpy())"
   ]
  },
  {
   "cell_type": "code",
   "execution_count": null,
   "metadata": {},
   "outputs": [],
   "source": [
    "y_pred = fcm.predict(X_test.to_numpy())\n",
    "mutual_info_score(y_pred, (y_test.to_numpy()).flatten())"
   ]
  },
  {
   "cell_type": "markdown",
   "metadata": {},
   "source": [
    "### Ensemble (broken)"
   ]
  },
  {
   "cell_type": "code",
   "execution_count": null,
   "metadata": {},
   "outputs": [],
   "source": [
    "X_train, X_test, y_train, y_test = train_test_split(df_over, df_labels_over, test_size=0.2, random_state=RANDOM_STATE)\n",
    "\n",
    "models = [(SVC(**clf.best_params_), \"SVM\"), (GaussianNB(), \"Bayes\"), (KNeighborsClassifier(**clf_cluster.best_params_), \"KNN\")]\n",
    "predictions = pd.DataFrame()\n",
    "\n",
    "for model, name in models:\n",
    "    X_bag, y_bag = resample(X_train, y_train, replace=True, random_state=RANDOM_STATE)\n",
    "    model.fit(X_bag, y_bag)\n",
    "    y_pred = model.predict(X_test)\n",
    "    predictions[name] = list(y_pred)"
   ]
  },
  {
   "cell_type": "code",
   "execution_count": null,
   "metadata": {},
   "outputs": [],
   "source": [
    "bag_out = predictions.apply(pd.value_counts, axis=1).idxmax(axis=1)\n",
    "accuracy_score(y_test, bag_out)"
   ]
  }
 ],
 "metadata": {
  "kernelspec": {
   "display_name": "Python 3 (ipykernel)",
   "language": "python",
   "name": "python3"
  },
  "language_info": {
   "codemirror_mode": {
    "name": "ipython",
    "version": 3
   },
   "file_extension": ".py",
   "mimetype": "text/x-python",
   "name": "python",
   "nbconvert_exporter": "python",
   "pygments_lexer": "ipython3",
   "version": "3.10.7"
  },
  "vscode": {
   "interpreter": {
    "hash": "aee8b7b246df8f9039afb4144a1f6fd8d2ca17a180786b69acc140d282b71a49"
   }
  }
 },
 "nbformat": 4,
 "nbformat_minor": 2
}
